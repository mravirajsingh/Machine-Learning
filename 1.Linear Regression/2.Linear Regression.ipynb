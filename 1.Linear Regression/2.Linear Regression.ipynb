{
 "cells": [
  {
   "cell_type": "code",
   "execution_count": 213,
   "metadata": {},
   "outputs": [],
   "source": [
    "import pandas as pd\n",
    "import numpy as np"
   ]
  },
  {
   "cell_type": "markdown",
   "metadata": {},
   "source": [
    "1.Consider the following sample dataset and write a program to project it in the form of a  scatter  plot  and  observe  any  relationship  that  exists  in  between  the  experience  and pay."
   ]
  },
  {
   "cell_type": "code",
   "execution_count": 214,
   "metadata": {},
   "outputs": [],
   "source": [
    "x = [2,3,5,13,8,16,11,1,9,4]\n",
    "y = [15,28,42,64,50,90,58,8,54,30]"
   ]
  },
  {
   "cell_type": "code",
   "execution_count": 222,
   "metadata": {},
   "outputs": [],
   "source": [
    "dataset = pd.DataFrame(\n",
    "    {'Experience': x,\n",
    "     'Pay': y}\n",
    ")"
   ]
  },
  {
   "cell_type": "code",
   "execution_count": 223,
   "metadata": {},
   "outputs": [
    {
     "data": {
      "text/html": [
       "<div>\n",
       "<style scoped>\n",
       "    .dataframe tbody tr th:only-of-type {\n",
       "        vertical-align: middle;\n",
       "    }\n",
       "\n",
       "    .dataframe tbody tr th {\n",
       "        vertical-align: top;\n",
       "    }\n",
       "\n",
       "    .dataframe thead th {\n",
       "        text-align: right;\n",
       "    }\n",
       "</style>\n",
       "<table border=\"1\" class=\"dataframe\">\n",
       "  <thead>\n",
       "    <tr style=\"text-align: right;\">\n",
       "      <th></th>\n",
       "      <th>Experience</th>\n",
       "      <th>Pay</th>\n",
       "    </tr>\n",
       "  </thead>\n",
       "  <tbody>\n",
       "    <tr>\n",
       "      <th>0</th>\n",
       "      <td>2</td>\n",
       "      <td>15</td>\n",
       "    </tr>\n",
       "    <tr>\n",
       "      <th>1</th>\n",
       "      <td>3</td>\n",
       "      <td>28</td>\n",
       "    </tr>\n",
       "    <tr>\n",
       "      <th>2</th>\n",
       "      <td>5</td>\n",
       "      <td>42</td>\n",
       "    </tr>\n",
       "    <tr>\n",
       "      <th>3</th>\n",
       "      <td>13</td>\n",
       "      <td>64</td>\n",
       "    </tr>\n",
       "    <tr>\n",
       "      <th>4</th>\n",
       "      <td>8</td>\n",
       "      <td>50</td>\n",
       "    </tr>\n",
       "  </tbody>\n",
       "</table>\n",
       "</div>"
      ],
      "text/plain": [
       "   Experience  Pay\n",
       "0           2   15\n",
       "1           3   28\n",
       "2           5   42\n",
       "3          13   64\n",
       "4           8   50"
      ]
     },
     "execution_count": 223,
     "metadata": {},
     "output_type": "execute_result"
    }
   ],
   "source": [
    "dataset.head()"
   ]
  },
  {
   "cell_type": "code",
   "execution_count": 227,
   "metadata": {},
   "outputs": [
    {
     "name": "stdout",
     "output_type": "stream",
     "text": [
      "alpha = 9.51\n",
      "beta = 4.78\n"
     ]
    }
   ],
   "source": [
    "# Calculate the mean of X and y\n",
    "xmean = np.mean(df['Experience'])\n",
    "ymean = np.mean(df['Pay'])\n",
    "\n",
    "# Calculate the terms needed for the numator and denominator of beta\n",
    "df['xycov'] = (df['Experience'] - xmean) * (df['Pay'] - ymean)\n",
    "df['xvar'] = (df['Experience'] - xmean)**2\n",
    "\n",
    "# Calculate beta and alpha\n",
    "beta = df['xycov'].sum() / df['xvar'].sum()\n",
    "alpha = ymean - (beta * xmean)\n",
    "print(f'alpha = {np.round(alpha,2)}')\n",
    "print(f'beta = {np.round(beta,2)}')"
   ]
  },
  {
   "cell_type": "code",
   "execution_count": 221,
   "metadata": {},
   "outputs": [
    {
     "data": {
      "text/html": [
       "<div>\n",
       "<style scoped>\n",
       "    .dataframe tbody tr th:only-of-type {\n",
       "        vertical-align: middle;\n",
       "    }\n",
       "\n",
       "    .dataframe tbody tr th {\n",
       "        vertical-align: top;\n",
       "    }\n",
       "\n",
       "    .dataframe thead th {\n",
       "        text-align: right;\n",
       "    }\n",
       "</style>\n",
       "<table border=\"1\" class=\"dataframe\">\n",
       "  <thead>\n",
       "    <tr style=\"text-align: right;\">\n",
       "      <th></th>\n",
       "      <th>Experience</th>\n",
       "      <th>Pay</th>\n",
       "    </tr>\n",
       "  </thead>\n",
       "  <tbody>\n",
       "    <tr>\n",
       "      <th>0</th>\n",
       "      <td>2</td>\n",
       "      <td>15</td>\n",
       "    </tr>\n",
       "    <tr>\n",
       "      <th>1</th>\n",
       "      <td>3</td>\n",
       "      <td>28</td>\n",
       "    </tr>\n",
       "    <tr>\n",
       "      <th>2</th>\n",
       "      <td>5</td>\n",
       "      <td>42</td>\n",
       "    </tr>\n",
       "    <tr>\n",
       "      <th>3</th>\n",
       "      <td>13</td>\n",
       "      <td>64</td>\n",
       "    </tr>\n",
       "    <tr>\n",
       "      <th>4</th>\n",
       "      <td>8</td>\n",
       "      <td>50</td>\n",
       "    </tr>\n",
       "  </tbody>\n",
       "</table>\n",
       "</div>"
      ],
      "text/plain": [
       "   Experience  Pay\n",
       "0           2   15\n",
       "1           3   28\n",
       "2           5   42\n",
       "3          13   64\n",
       "4           8   50"
      ]
     },
     "execution_count": 221,
     "metadata": {},
     "output_type": "execute_result"
    }
   ],
   "source": [
    "df.head()"
   ]
  },
  {
   "cell_type": "code",
   "execution_count": 110,
   "metadata": {},
   "outputs": [
    {
     "data": {
      "text/plain": [
       "0    19.060633\n",
       "1    23.837434\n",
       "2    33.391037\n",
       "3    71.605448\n",
       "4    47.721441\n",
       "5    85.935852\n",
       "6    62.051845\n",
       "7    14.283831\n",
       "8    52.498243\n",
       "9    28.614236\n",
       "Name: x, dtype: float64"
      ]
     },
     "execution_count": 110,
     "metadata": {},
     "output_type": "execute_result"
    }
   ],
   "source": [
    "ypred = alpha + beta*df['x']\n",
    "ypred"
   ]
  },
  {
   "cell_type": "code",
   "execution_count": 112,
   "metadata": {},
   "outputs": [
    {
     "data": {
      "image/png": "[encoded data removed]",
      "text/plain": [
       "<Figure size 720x360 with 1 Axes>"
      ]
     },
     "metadata": {
      "needs_background": "light"
     },
     "output_type": "display_data"
    }
   ],
   "source": [
    "from matplotlib import pyplot as plt\n",
    "%matplotlib inline\n",
    "# Plot regression against actual data\n",
    "plt.figure(figsize=(10, 5))\n",
    "plt.plot(x, ypred)     # regression line\n",
    "plt.plot(x, y, 'ro')   # scatter plot showing actual data\n",
    "plt.title('Actual vs Predicted')\n",
    "plt.xlabel('X')\n",
    "plt.ylabel('y')\n",
    "\n",
    "plt.show()"
   ]
  },
  {
   "cell_type": "markdown",
   "metadata": {},
   "source": [
    "2.Fill the following tableby using the respective values of 𝒙and 𝒚"
   ]
  },
  {
   "cell_type": "code",
   "execution_count": 134,
   "metadata": {},
   "outputs": [],
   "source": [
    "x = [2,3,5,13,8,16,11,1,9,4]\n",
    "y = [15,28,42,64,50,90,58,8,54,30]"
   ]
  },
  {
   "cell_type": "code",
   "execution_count": 135,
   "metadata": {},
   "outputs": [],
   "source": [
    "xmean = np.mean(x)\n",
    "ymean = np.mean(y)"
   ]
  },
  {
   "cell_type": "code",
   "execution_count": 136,
   "metadata": {},
   "outputs": [],
   "source": [
    "df['𝒙−𝒙̅']=x-xmean\n",
    "df['𝒚−𝒚̅']=y-ymean"
   ]
  },
  {
   "cell_type": "code",
   "execution_count": 137,
   "metadata": {},
   "outputs": [],
   "source": [
    "df['xycov'] = df['𝒙−𝒙̅']*df['𝒚−𝒚̅']"
   ]
  },
  {
   "cell_type": "code",
   "execution_count": 138,
   "metadata": {},
   "outputs": [],
   "source": [
    "df['xvar']=df['𝒙−𝒙̅']**2"
   ]
  },
  {
   "cell_type": "code",
   "execution_count": 139,
   "metadata": {},
   "outputs": [],
   "source": [
    "df = pd.DataFrame(\n",
    "    {'x': x,\n",
    "     'y': y,\n",
    "    '(𝒙−𝒙̅)':df['𝒙−𝒙̅'],\n",
    "     '(𝒚−𝒚̅)':df['𝒚−𝒚̅'],\n",
    "     '(𝒙−𝒙̅)∗(𝒚−𝒚̅)':df['xycov'],\n",
    "     '(𝒙−𝒙̅)𝟐':df['xvar']\n",
    "    }\n",
    ")"
   ]
  },
  {
   "cell_type": "code",
   "execution_count": 140,
   "metadata": {},
   "outputs": [
    {
     "data": {
      "text/html": [
       "<div>\n",
       "<style scoped>\n",
       "    .dataframe tbody tr th:only-of-type {\n",
       "        vertical-align: middle;\n",
       "    }\n",
       "\n",
       "    .dataframe tbody tr th {\n",
       "        vertical-align: top;\n",
       "    }\n",
       "\n",
       "    .dataframe thead th {\n",
       "        text-align: right;\n",
       "    }\n",
       "</style>\n",
       "<table border=\"1\" class=\"dataframe\">\n",
       "  <thead>\n",
       "    <tr style=\"text-align: right;\">\n",
       "      <th></th>\n",
       "      <th>x</th>\n",
       "      <th>y</th>\n",
       "      <th>(𝒙−𝒙̅)</th>\n",
       "      <th>(𝒚−𝒚̅)</th>\n",
       "      <th>(𝒙−𝒙̅)∗(𝒚−𝒚̅)</th>\n",
       "      <th>(𝒙−𝒙̅)𝟐</th>\n",
       "    </tr>\n",
       "  </thead>\n",
       "  <tbody>\n",
       "    <tr>\n",
       "      <th>0</th>\n",
       "      <td>2</td>\n",
       "      <td>15</td>\n",
       "      <td>-5.2</td>\n",
       "      <td>-28.9</td>\n",
       "      <td>150.28</td>\n",
       "      <td>27.04</td>\n",
       "    </tr>\n",
       "    <tr>\n",
       "      <th>1</th>\n",
       "      <td>3</td>\n",
       "      <td>28</td>\n",
       "      <td>-4.2</td>\n",
       "      <td>-15.9</td>\n",
       "      <td>66.78</td>\n",
       "      <td>17.64</td>\n",
       "    </tr>\n",
       "    <tr>\n",
       "      <th>2</th>\n",
       "      <td>5</td>\n",
       "      <td>42</td>\n",
       "      <td>-2.2</td>\n",
       "      <td>-1.9</td>\n",
       "      <td>4.18</td>\n",
       "      <td>4.84</td>\n",
       "    </tr>\n",
       "    <tr>\n",
       "      <th>3</th>\n",
       "      <td>13</td>\n",
       "      <td>64</td>\n",
       "      <td>5.8</td>\n",
       "      <td>20.1</td>\n",
       "      <td>116.58</td>\n",
       "      <td>33.64</td>\n",
       "    </tr>\n",
       "    <tr>\n",
       "      <th>4</th>\n",
       "      <td>8</td>\n",
       "      <td>50</td>\n",
       "      <td>0.8</td>\n",
       "      <td>6.1</td>\n",
       "      <td>4.88</td>\n",
       "      <td>0.64</td>\n",
       "    </tr>\n",
       "    <tr>\n",
       "      <th>5</th>\n",
       "      <td>16</td>\n",
       "      <td>90</td>\n",
       "      <td>8.8</td>\n",
       "      <td>46.1</td>\n",
       "      <td>405.68</td>\n",
       "      <td>77.44</td>\n",
       "    </tr>\n",
       "    <tr>\n",
       "      <th>6</th>\n",
       "      <td>11</td>\n",
       "      <td>58</td>\n",
       "      <td>3.8</td>\n",
       "      <td>14.1</td>\n",
       "      <td>53.58</td>\n",
       "      <td>14.44</td>\n",
       "    </tr>\n",
       "    <tr>\n",
       "      <th>7</th>\n",
       "      <td>1</td>\n",
       "      <td>8</td>\n",
       "      <td>-6.2</td>\n",
       "      <td>-35.9</td>\n",
       "      <td>222.58</td>\n",
       "      <td>38.44</td>\n",
       "    </tr>\n",
       "    <tr>\n",
       "      <th>8</th>\n",
       "      <td>9</td>\n",
       "      <td>54</td>\n",
       "      <td>1.8</td>\n",
       "      <td>10.1</td>\n",
       "      <td>18.18</td>\n",
       "      <td>3.24</td>\n",
       "    </tr>\n",
       "    <tr>\n",
       "      <th>9</th>\n",
       "      <td>4</td>\n",
       "      <td>30</td>\n",
       "      <td>-3.2</td>\n",
       "      <td>-13.9</td>\n",
       "      <td>44.48</td>\n",
       "      <td>10.24</td>\n",
       "    </tr>\n",
       "  </tbody>\n",
       "</table>\n",
       "</div>"
      ],
      "text/plain": [
       "    x   y  (𝒙−𝒙̅)  (𝒚−𝒚̅)  (𝒙−𝒙̅)∗(𝒚−𝒚̅)  (𝒙−𝒙̅)𝟐\n",
       "0   2  15    -5.2   -28.9         150.28    27.04\n",
       "1   3  28    -4.2   -15.9          66.78    17.64\n",
       "2   5  42    -2.2    -1.9           4.18     4.84\n",
       "3  13  64     5.8    20.1         116.58    33.64\n",
       "4   8  50     0.8     6.1           4.88     0.64\n",
       "5  16  90     8.8    46.1         405.68    77.44\n",
       "6  11  58     3.8    14.1          53.58    14.44\n",
       "7   1   8    -6.2   -35.9         222.58    38.44\n",
       "8   9  54     1.8    10.1          18.18     3.24\n",
       "9   4  30    -3.2   -13.9          44.48    10.24"
      ]
     },
     "execution_count": 140,
     "metadata": {},
     "output_type": "execute_result"
    }
   ],
   "source": [
    "df"
   ]
  },
  {
   "cell_type": "code",
   "execution_count": 141,
   "metadata": {},
   "outputs": [
    {
     "data": {
      "text/plain": [
       "7.2"
      ]
     },
     "execution_count": 141,
     "metadata": {},
     "output_type": "execute_result"
    }
   ],
   "source": [
    "xmean"
   ]
  },
  {
   "cell_type": "code",
   "execution_count": 142,
   "metadata": {},
   "outputs": [
    {
     "data": {
      "text/plain": [
       "43.9"
      ]
     },
     "execution_count": 142,
     "metadata": {},
     "output_type": "execute_result"
    }
   ],
   "source": [
    "ymean"
   ]
  },
  {
   "cell_type": "code",
   "execution_count": 149,
   "metadata": {},
   "outputs": [
    {
     "data": {
      "text/plain": [
       "1087.2"
      ]
     },
     "execution_count": 149,
     "metadata": {},
     "output_type": "execute_result"
    }
   ],
   "source": [
    "sumofxycov = df['(𝒙−𝒙̅)∗(𝒚−𝒚̅)'].sum() #sum of (𝒙−𝒙̅)∗(𝒚−𝒚̅)\n",
    "sumofxycov"
   ]
  },
  {
   "cell_type": "code",
   "execution_count": 150,
   "metadata": {},
   "outputs": [
    {
     "data": {
      "text/plain": [
       "227.60000000000002"
      ]
     },
     "execution_count": 150,
     "metadata": {},
     "output_type": "execute_result"
    }
   ],
   "source": [
    "sumofxvar=df['(𝒙−𝒙̅)𝟐'].sum()    #sum of (𝒙−𝒙̅)𝟐\n",
    "sumofxvar"
   ]
  },
  {
   "cell_type": "markdown",
   "metadata": {},
   "source": [
    "3.Use  the  above  table  and  solve  the following equations  (using  OLS  method)for finding the values of  𝑤0 and 𝑤1."
   ]
  },
  {
   "cell_type": "code",
   "execution_count": 69,
   "metadata": {},
   "outputs": [
    {
     "data": {
      "text/html": [
       "<div>\n",
       "<style scoped>\n",
       "    .dataframe tbody tr th:only-of-type {\n",
       "        vertical-align: middle;\n",
       "    }\n",
       "\n",
       "    .dataframe tbody tr th {\n",
       "        vertical-align: top;\n",
       "    }\n",
       "\n",
       "    .dataframe thead th {\n",
       "        text-align: right;\n",
       "    }\n",
       "</style>\n",
       "<table border=\"1\" class=\"dataframe\">\n",
       "  <thead>\n",
       "    <tr style=\"text-align: right;\">\n",
       "      <th></th>\n",
       "      <th>x</th>\n",
       "      <th>y</th>\n",
       "      <th>(𝒙−𝒙̅)</th>\n",
       "      <th>(𝒚−𝒚̅)</th>\n",
       "      <th>(𝒙−𝒙̅)∗(𝒚−𝒚̅)</th>\n",
       "      <th>(𝒙−𝒙̅)𝟐</th>\n",
       "    </tr>\n",
       "  </thead>\n",
       "  <tbody>\n",
       "    <tr>\n",
       "      <th>0</th>\n",
       "      <td>2</td>\n",
       "      <td>15</td>\n",
       "      <td>-5.2</td>\n",
       "      <td>-28.9</td>\n",
       "      <td>150.28</td>\n",
       "      <td>27.04</td>\n",
       "    </tr>\n",
       "    <tr>\n",
       "      <th>1</th>\n",
       "      <td>3</td>\n",
       "      <td>28</td>\n",
       "      <td>-4.2</td>\n",
       "      <td>-15.9</td>\n",
       "      <td>66.78</td>\n",
       "      <td>17.64</td>\n",
       "    </tr>\n",
       "    <tr>\n",
       "      <th>2</th>\n",
       "      <td>5</td>\n",
       "      <td>42</td>\n",
       "      <td>-2.2</td>\n",
       "      <td>-1.9</td>\n",
       "      <td>4.18</td>\n",
       "      <td>4.84</td>\n",
       "    </tr>\n",
       "    <tr>\n",
       "      <th>3</th>\n",
       "      <td>13</td>\n",
       "      <td>64</td>\n",
       "      <td>5.8</td>\n",
       "      <td>20.1</td>\n",
       "      <td>116.58</td>\n",
       "      <td>33.64</td>\n",
       "    </tr>\n",
       "    <tr>\n",
       "      <th>4</th>\n",
       "      <td>8</td>\n",
       "      <td>50</td>\n",
       "      <td>0.8</td>\n",
       "      <td>6.1</td>\n",
       "      <td>4.88</td>\n",
       "      <td>0.64</td>\n",
       "    </tr>\n",
       "    <tr>\n",
       "      <th>5</th>\n",
       "      <td>16</td>\n",
       "      <td>90</td>\n",
       "      <td>8.8</td>\n",
       "      <td>46.1</td>\n",
       "      <td>405.68</td>\n",
       "      <td>77.44</td>\n",
       "    </tr>\n",
       "    <tr>\n",
       "      <th>6</th>\n",
       "      <td>11</td>\n",
       "      <td>58</td>\n",
       "      <td>3.8</td>\n",
       "      <td>14.1</td>\n",
       "      <td>53.58</td>\n",
       "      <td>14.44</td>\n",
       "    </tr>\n",
       "    <tr>\n",
       "      <th>7</th>\n",
       "      <td>1</td>\n",
       "      <td>8</td>\n",
       "      <td>-6.2</td>\n",
       "      <td>-35.9</td>\n",
       "      <td>222.58</td>\n",
       "      <td>38.44</td>\n",
       "    </tr>\n",
       "    <tr>\n",
       "      <th>8</th>\n",
       "      <td>9</td>\n",
       "      <td>54</td>\n",
       "      <td>1.8</td>\n",
       "      <td>10.1</td>\n",
       "      <td>18.18</td>\n",
       "      <td>3.24</td>\n",
       "    </tr>\n",
       "    <tr>\n",
       "      <th>9</th>\n",
       "      <td>4</td>\n",
       "      <td>30</td>\n",
       "      <td>-3.2</td>\n",
       "      <td>-13.9</td>\n",
       "      <td>44.48</td>\n",
       "      <td>10.24</td>\n",
       "    </tr>\n",
       "  </tbody>\n",
       "</table>\n",
       "</div>"
      ],
      "text/plain": [
       "    x   y  (𝒙−𝒙̅)  (𝒚−𝒚̅)  (𝒙−𝒙̅)∗(𝒚−𝒚̅)  (𝒙−𝒙̅)𝟐\n",
       "0   2  15    -5.2   -28.9         150.28    27.04\n",
       "1   3  28    -4.2   -15.9          66.78    17.64\n",
       "2   5  42    -2.2    -1.9           4.18     4.84\n",
       "3  13  64     5.8    20.1         116.58    33.64\n",
       "4   8  50     0.8     6.1           4.88     0.64\n",
       "5  16  90     8.8    46.1         405.68    77.44\n",
       "6  11  58     3.8    14.1          53.58    14.44\n",
       "7   1   8    -6.2   -35.9         222.58    38.44\n",
       "8   9  54     1.8    10.1          18.18     3.24\n",
       "9   4  30    -3.2   -13.9          44.48    10.24"
      ]
     },
     "execution_count": 69,
     "metadata": {},
     "output_type": "execute_result"
    }
   ],
   "source": [
    "df"
   ]
  },
  {
   "cell_type": "code",
   "execution_count": 48,
   "metadata": {},
   "outputs": [
    {
     "name": "stdout",
     "output_type": "stream",
     "text": [
      "alpha = 9.51\n",
      "beta = 4.78\n"
     ]
    }
   ],
   "source": [
    "df['xycov'] = (df['x'] - xmean) * (df['y'] - ymean)\n",
    "df['xvar'] = (df['x'] - xmean)**2\n",
    "\n",
    "\n",
    "beta = df['xycov'].sum() / df['xvar'].sum()          # Calculate 𝑤0 and 𝑤1 as alpha and beta \n",
    "alpha = ymean - (beta * xmean)\n",
    "print(f'alpha = {np.round(alpha,2)}')\n",
    "print(f'beta = {np.round(beta,2)}')"
   ]
  },
  {
   "cell_type": "markdown",
   "metadata": {},
   "source": [
    "4.Write  a  python  program  to find the above  two values(𝑤0 and 𝑤1)for any given dataset."
   ]
  },
  {
   "cell_type": "code",
   "execution_count": 90,
   "metadata": {},
   "outputs": [],
   "source": [
    "x = [2,3,5,13,8,16,11,1,9,4]\n",
    "y = [15,28,42,64,50,90,58,8,54,30]"
   ]
  },
  {
   "cell_type": "code",
   "execution_count": 91,
   "metadata": {},
   "outputs": [],
   "source": [
    "dataset = pd.DataFrame(\n",
    "    {'x': x,\n",
    "     'y': y}\n",
    ")"
   ]
  },
  {
   "cell_type": "code",
   "execution_count": 93,
   "metadata": {},
   "outputs": [
    {
     "name": "stdout",
     "output_type": "stream",
     "text": [
      "alpha = 48.61\n",
      "beta = -0.65\n"
     ]
    }
   ],
   "source": [
    "xmean = np.mean(x)\n",
    "ymean = np.mean(y)\n",
    "df['xycov'] = (df['x'] - xmean) * (df['y'] - ymean)\n",
    "df['xvar'] = (df['x'] - xmean)**2\n",
    "\n",
    "\n",
    "beta = df['xycov'].sum() / df['xvar'].sum()          # Calculate 𝑤0 and 𝑤1 as alpha and beta \n",
    "alpha = ymean - (beta * xmean)\n",
    "print(f'alpha = {np.round(alpha,2)}')\n",
    "print(f'beta = {np.round(beta,2)}')"
   ]
  },
  {
   "cell_type": "markdown",
   "metadata": {},
   "source": [
    "5.Write  a  python  program  to find the above  two values(𝑤0 and 𝑤1)for any given dataset using Normal Equations"
   ]
  },
  {
   "cell_type": "code",
   "execution_count": 70,
   "metadata": {},
   "outputs": [
    {
     "name": "stdout",
     "output_type": "stream",
     "text": [
      "[[1. ]\n",
      " [0.5]]\n"
     ]
    }
   ],
   "source": [
    "X = np.c_[[1,1,1],[1,2,3]] # defining features\n",
    "y = np.c_[[1,3,2]] # defining labels\n",
    "theta = np.linalg.inv(X.T.dot(X)).dot(X.T).dot(y) # normal equation\n",
    "print(theta)"
   ]
  },
  {
   "cell_type": "markdown",
   "metadata": {},
   "source": [
    "6.Write  a  python  program  to find the above  two values(𝑤0 and 𝑤1)for any given dataset using gradient descent."
   ]
  },
  {
   "cell_type": "code",
   "execution_count": 205,
   "metadata": {},
   "outputs": [
    {
     "name": "stdout",
     "output_type": "stream",
     "text": [
      "<class 'numpy.ndarray'>\n"
     ]
    }
   ],
   "source": [
    "np.random.seed(0)            #Even if we rerun the seed method will give us the same random values\n",
    "X = 2.5 * np.random.randn(100) + 1.5   # Array of 100 values with mean = 1.5, stddev = 2.5\n",
    "print(type(X))\n",
    "res = 0.5 * np.random.randn(100)       # Generate 100 residual terms\n",
    "Y = 2 + 0.3 * X + res   \n"
   ]
  },
  {
   "cell_type": "code",
   "execution_count": 206,
   "metadata": {},
   "outputs": [],
   "source": [
    "w1 = 0\n",
    "w0 = 0\n",
    "\n",
    "L = 0.0004          # The learning Rate\n",
    "epochs = 6000      # The number of iterations to perform gradient descent\n",
    "\n",
    "n = float(len(X))    # Number of elements in X\n",
    "\n",
    "# Gradient Descent \n",
    "for i in range(epochs):  \n",
    "    Y_pred = w1*X + w0                   # The current predicted value of Y\n",
    "    D_w1 = (-2/n) * sum(X * (Y - Y_pred))  # Derivative wrt w1\n",
    "    D_w0 = (-2/n) * sum(Y - Y_pred)  # Derivative wrt w0\n",
    "    w1 = w1 - L * D_w1  # Update w1\n",
    "    w0 = w0 - L * D_w0  # Update w0"
   ]
  },
  {
   "cell_type": "code",
   "execution_count": 207,
   "metadata": {},
   "outputs": [
    {
     "name": "stdout",
     "output_type": "stream",
     "text": [
      "alpha = 1.93\n",
      "beta= 0.34\n"
     ]
    }
   ],
   "source": [
    "print(f'alpha = {np.round(w0,2)}')\n",
    "print(f'beta= {np.round(w1,2)}')\n",
    "\n",
    "Y_pred = w0+w1*X"
   ]
  },
  {
   "cell_type": "markdown",
   "metadata": {},
   "source": [
    "7.Write  a  python  program  to store  the  above  dataset  as pandas  data-frame  and implement linear regression model by splitting the dataset into training set and testing set(80:20)."
   ]
  },
  {
   "cell_type": "code",
   "execution_count": 77,
   "metadata": {},
   "outputs": [],
   "source": [
    "x = [15,28,42,64,50,90,58,8,54,30]\n",
    "y = [2,3,5,13,8,16,11,1,9,4]"
   ]
  },
  {
   "cell_type": "code",
   "execution_count": 79,
   "metadata": {},
   "outputs": [
    {
     "data": {
      "text/html": [
       "<div>\n",
       "<style scoped>\n",
       "    .dataframe tbody tr th:only-of-type {\n",
       "        vertical-align: middle;\n",
       "    }\n",
       "\n",
       "    .dataframe tbody tr th {\n",
       "        vertical-align: top;\n",
       "    }\n",
       "\n",
       "    .dataframe thead th {\n",
       "        text-align: right;\n",
       "    }\n",
       "</style>\n",
       "<table border=\"1\" class=\"dataframe\">\n",
       "  <thead>\n",
       "    <tr style=\"text-align: right;\">\n",
       "      <th></th>\n",
       "      <th>x</th>\n",
       "      <th>y</th>\n",
       "    </tr>\n",
       "  </thead>\n",
       "  <tbody>\n",
       "    <tr>\n",
       "      <th>0</th>\n",
       "      <td>15</td>\n",
       "      <td>2</td>\n",
       "    </tr>\n",
       "    <tr>\n",
       "      <th>1</th>\n",
       "      <td>28</td>\n",
       "      <td>3</td>\n",
       "    </tr>\n",
       "    <tr>\n",
       "      <th>2</th>\n",
       "      <td>42</td>\n",
       "      <td>5</td>\n",
       "    </tr>\n",
       "    <tr>\n",
       "      <th>3</th>\n",
       "      <td>64</td>\n",
       "      <td>13</td>\n",
       "    </tr>\n",
       "    <tr>\n",
       "      <th>4</th>\n",
       "      <td>50</td>\n",
       "      <td>8</td>\n",
       "    </tr>\n",
       "    <tr>\n",
       "      <th>5</th>\n",
       "      <td>90</td>\n",
       "      <td>16</td>\n",
       "    </tr>\n",
       "    <tr>\n",
       "      <th>6</th>\n",
       "      <td>58</td>\n",
       "      <td>11</td>\n",
       "    </tr>\n",
       "    <tr>\n",
       "      <th>7</th>\n",
       "      <td>8</td>\n",
       "      <td>1</td>\n",
       "    </tr>\n",
       "    <tr>\n",
       "      <th>8</th>\n",
       "      <td>54</td>\n",
       "      <td>9</td>\n",
       "    </tr>\n",
       "    <tr>\n",
       "      <th>9</th>\n",
       "      <td>30</td>\n",
       "      <td>4</td>\n",
       "    </tr>\n",
       "  </tbody>\n",
       "</table>\n",
       "</div>"
      ],
      "text/plain": [
       "    x   y\n",
       "0  15   2\n",
       "1  28   3\n",
       "2  42   5\n",
       "3  64  13\n",
       "4  50   8\n",
       "5  90  16\n",
       "6  58  11\n",
       "7   8   1\n",
       "8  54   9\n",
       "9  30   4"
      ]
     },
     "execution_count": 79,
     "metadata": {},
     "output_type": "execute_result"
    }
   ],
   "source": [
    "df = pd.DataFrame(\n",
    "    {'x': x,\n",
    "     'y': y}\n",
    ")\n",
    "df"
   ]
  },
  {
   "cell_type": "code",
   "execution_count": 84,
   "metadata": {},
   "outputs": [],
   "source": [
    "x = dataset.iloc[:, :-1].values\n",
    "y = dataset.iloc[:, 1].values"
   ]
  },
  {
   "cell_type": "code",
   "execution_count": 85,
   "metadata": {},
   "outputs": [],
   "source": [
    "from sklearn.model_selection import train_test_split\n",
    "x_train, x_test, y_train, y_test = train_test_split(x, y, test_size=0.2, random_state=0)"
   ]
  },
  {
   "cell_type": "code",
   "execution_count": 87,
   "metadata": {},
   "outputs": [
    {
     "data": {
      "text/plain": [
       "LinearRegression()"
      ]
     },
     "execution_count": 87,
     "metadata": {},
     "output_type": "execute_result"
    }
   ],
   "source": [
    "from sklearn.linear_model import LinearRegression\n",
    "lin_reg = LinearRegression()\n",
    "lin_reg.fit(x_train, y_train)"
   ]
  },
  {
   "cell_type": "markdown",
   "metadata": {},
   "source": [
    "8.Use the above created linear model on training set and apply on the testset. "
   ]
  },
  {
   "cell_type": "code",
   "execution_count": 160,
   "metadata": {},
   "outputs": [
    {
     "data": {
      "text/plain": [
       "array([7.07502053, 9.47473894])"
      ]
     },
     "execution_count": 160,
     "metadata": {},
     "output_type": "execute_result"
    }
   ],
   "source": [
    "lin_reg.fit(x_train, y_train)\n",
    "lin_pred =lin_reg.predict(x_test)\n",
    "lin_pred"
   ]
  },
  {
   "cell_type": "markdown",
   "metadata": {},
   "source": [
    "9.Identifyand  explain the  appropriate  metricsfor  measuring  the  accuracy  of  the linear model created above. "
   ]
  },
  {
   "cell_type": "code",
   "execution_count": 89,
   "metadata": {},
   "outputs": [
    {
     "name": "stdout",
     "output_type": "stream",
     "text": [
      "0.4336140907771915\n",
      "1.2748797371817444\n",
      "2.265543636891234\n"
     ]
    }
   ],
   "source": [
    "from sklearn.metrics import r2_score, mean_absolute_error,mean_squared_error\n",
    "print(r2_score(y_test,lin_pred))\n",
    "print(mean_absolute_error(y_test,lin_pred))\n",
    "print(mean_squared_error(y_test,lin_pred))"
   ]
  },
  {
   "cell_type": "markdown",
   "metadata": {},
   "source": [
    "10.Write a python script for performing linear modelon the given dataset below."
   ]
  },
  {
   "cell_type": "code",
   "execution_count": 192,
   "metadata": {},
   "outputs": [
    {
     "data": {
      "text/html": [
       "<div>\n",
       "<style scoped>\n",
       "    .dataframe tbody tr th:only-of-type {\n",
       "        vertical-align: middle;\n",
       "    }\n",
       "\n",
       "    .dataframe tbody tr th {\n",
       "        vertical-align: top;\n",
       "    }\n",
       "\n",
       "    .dataframe thead th {\n",
       "        text-align: right;\n",
       "    }\n",
       "</style>\n",
       "<table border=\"1\" class=\"dataframe\">\n",
       "  <thead>\n",
       "    <tr style=\"text-align: right;\">\n",
       "      <th></th>\n",
       "      <th>Year</th>\n",
       "      <th>Month</th>\n",
       "      <th>Interest_Rate</th>\n",
       "      <th>Unemoloyment_Rate</th>\n",
       "      <th>Stock_Index_Price</th>\n",
       "    </tr>\n",
       "  </thead>\n",
       "  <tbody>\n",
       "    <tr>\n",
       "      <th>0</th>\n",
       "      <td>2017</td>\n",
       "      <td>12</td>\n",
       "      <td>2.75</td>\n",
       "      <td>5.3</td>\n",
       "      <td>1464</td>\n",
       "    </tr>\n",
       "    <tr>\n",
       "      <th>1</th>\n",
       "      <td>2017</td>\n",
       "      <td>11</td>\n",
       "      <td>2.50</td>\n",
       "      <td>5.3</td>\n",
       "      <td>1394</td>\n",
       "    </tr>\n",
       "    <tr>\n",
       "      <th>2</th>\n",
       "      <td>2017</td>\n",
       "      <td>10</td>\n",
       "      <td>2.50</td>\n",
       "      <td>5.3</td>\n",
       "      <td>1357</td>\n",
       "    </tr>\n",
       "    <tr>\n",
       "      <th>3</th>\n",
       "      <td>2017</td>\n",
       "      <td>9</td>\n",
       "      <td>2.50</td>\n",
       "      <td>5.3</td>\n",
       "      <td>1293</td>\n",
       "    </tr>\n",
       "    <tr>\n",
       "      <th>4</th>\n",
       "      <td>2017</td>\n",
       "      <td>8</td>\n",
       "      <td>2.50</td>\n",
       "      <td>5.4</td>\n",
       "      <td>1256</td>\n",
       "    </tr>\n",
       "    <tr>\n",
       "      <th>5</th>\n",
       "      <td>2017</td>\n",
       "      <td>7</td>\n",
       "      <td>2.50</td>\n",
       "      <td>5.6</td>\n",
       "      <td>1254</td>\n",
       "    </tr>\n",
       "    <tr>\n",
       "      <th>6</th>\n",
       "      <td>2017</td>\n",
       "      <td>6</td>\n",
       "      <td>2.50</td>\n",
       "      <td>5.5</td>\n",
       "      <td>1234</td>\n",
       "    </tr>\n",
       "    <tr>\n",
       "      <th>7</th>\n",
       "      <td>2017</td>\n",
       "      <td>5</td>\n",
       "      <td>2.25</td>\n",
       "      <td>5.5</td>\n",
       "      <td>1195</td>\n",
       "    </tr>\n",
       "    <tr>\n",
       "      <th>8</th>\n",
       "      <td>2017</td>\n",
       "      <td>4</td>\n",
       "      <td>2.25</td>\n",
       "      <td>5.5</td>\n",
       "      <td>1159</td>\n",
       "    </tr>\n",
       "    <tr>\n",
       "      <th>9</th>\n",
       "      <td>2017</td>\n",
       "      <td>3</td>\n",
       "      <td>2.25</td>\n",
       "      <td>5.6</td>\n",
       "      <td>1167</td>\n",
       "    </tr>\n",
       "    <tr>\n",
       "      <th>10</th>\n",
       "      <td>2017</td>\n",
       "      <td>2</td>\n",
       "      <td>2.00</td>\n",
       "      <td>5.7</td>\n",
       "      <td>1130</td>\n",
       "    </tr>\n",
       "    <tr>\n",
       "      <th>11</th>\n",
       "      <td>2017</td>\n",
       "      <td>1</td>\n",
       "      <td>2.00</td>\n",
       "      <td>5.9</td>\n",
       "      <td>1075</td>\n",
       "    </tr>\n",
       "    <tr>\n",
       "      <th>12</th>\n",
       "      <td>2016</td>\n",
       "      <td>12</td>\n",
       "      <td>2.00</td>\n",
       "      <td>6.0</td>\n",
       "      <td>1047</td>\n",
       "    </tr>\n",
       "    <tr>\n",
       "      <th>13</th>\n",
       "      <td>2016</td>\n",
       "      <td>11</td>\n",
       "      <td>1.75</td>\n",
       "      <td>5.9</td>\n",
       "      <td>965</td>\n",
       "    </tr>\n",
       "    <tr>\n",
       "      <th>14</th>\n",
       "      <td>2016</td>\n",
       "      <td>10</td>\n",
       "      <td>1.75</td>\n",
       "      <td>5.8</td>\n",
       "      <td>943</td>\n",
       "    </tr>\n",
       "    <tr>\n",
       "      <th>15</th>\n",
       "      <td>2016</td>\n",
       "      <td>9</td>\n",
       "      <td>1.75</td>\n",
       "      <td>6.1</td>\n",
       "      <td>958</td>\n",
       "    </tr>\n",
       "    <tr>\n",
       "      <th>16</th>\n",
       "      <td>2016</td>\n",
       "      <td>8</td>\n",
       "      <td>1.75</td>\n",
       "      <td>6.2</td>\n",
       "      <td>971</td>\n",
       "    </tr>\n",
       "    <tr>\n",
       "      <th>17</th>\n",
       "      <td>2016</td>\n",
       "      <td>7</td>\n",
       "      <td>1.75</td>\n",
       "      <td>6.1</td>\n",
       "      <td>949</td>\n",
       "    </tr>\n",
       "    <tr>\n",
       "      <th>18</th>\n",
       "      <td>2016</td>\n",
       "      <td>6</td>\n",
       "      <td>1.75</td>\n",
       "      <td>6.1</td>\n",
       "      <td>884</td>\n",
       "    </tr>\n",
       "    <tr>\n",
       "      <th>19</th>\n",
       "      <td>2016</td>\n",
       "      <td>5</td>\n",
       "      <td>1.75</td>\n",
       "      <td>6.1</td>\n",
       "      <td>866</td>\n",
       "    </tr>\n",
       "    <tr>\n",
       "      <th>20</th>\n",
       "      <td>2016</td>\n",
       "      <td>4</td>\n",
       "      <td>1.75</td>\n",
       "      <td>5.9</td>\n",
       "      <td>876</td>\n",
       "    </tr>\n",
       "    <tr>\n",
       "      <th>21</th>\n",
       "      <td>2016</td>\n",
       "      <td>3</td>\n",
       "      <td>1.75</td>\n",
       "      <td>6.2</td>\n",
       "      <td>822</td>\n",
       "    </tr>\n",
       "    <tr>\n",
       "      <th>22</th>\n",
       "      <td>2016</td>\n",
       "      <td>2</td>\n",
       "      <td>1.75</td>\n",
       "      <td>6.2</td>\n",
       "      <td>704</td>\n",
       "    </tr>\n",
       "    <tr>\n",
       "      <th>23</th>\n",
       "      <td>2016</td>\n",
       "      <td>1</td>\n",
       "      <td>1.75</td>\n",
       "      <td>6.1</td>\n",
       "      <td>719</td>\n",
       "    </tr>\n",
       "  </tbody>\n",
       "</table>\n",
       "</div>"
      ],
      "text/plain": [
       "    Year  Month  Interest_Rate  Unemoloyment_Rate  Stock_Index_Price\n",
       "0   2017     12           2.75                5.3               1464\n",
       "1   2017     11           2.50                5.3               1394\n",
       "2   2017     10           2.50                5.3               1357\n",
       "3   2017      9           2.50                5.3               1293\n",
       "4   2017      8           2.50                5.4               1256\n",
       "5   2017      7           2.50                5.6               1254\n",
       "6   2017      6           2.50                5.5               1234\n",
       "7   2017      5           2.25                5.5               1195\n",
       "8   2017      4           2.25                5.5               1159\n",
       "9   2017      3           2.25                5.6               1167\n",
       "10  2017      2           2.00                5.7               1130\n",
       "11  2017      1           2.00                5.9               1075\n",
       "12  2016     12           2.00                6.0               1047\n",
       "13  2016     11           1.75                5.9                965\n",
       "14  2016     10           1.75                5.8                943\n",
       "15  2016      9           1.75                6.1                958\n",
       "16  2016      8           1.75                6.2                971\n",
       "17  2016      7           1.75                6.1                949\n",
       "18  2016      6           1.75                6.1                884\n",
       "19  2016      5           1.75                6.1                866\n",
       "20  2016      4           1.75                5.9                876\n",
       "21  2016      3           1.75                6.2                822\n",
       "22  2016      2           1.75                6.2                704\n",
       "23  2016      1           1.75                6.1                719"
      ]
     },
     "execution_count": 192,
     "metadata": {},
     "output_type": "execute_result"
    }
   ],
   "source": [
    "dataset = pd.read_csv(\"dataset.csv\")\n",
    "dataset.head(24)"
   ]
  },
  {
   "cell_type": "code",
   "execution_count": 188,
   "metadata": {},
   "outputs": [],
   "source": [
    "from sklearn.linear_model import LinearRegression\n",
    "\n",
    "# Build linear regression model using 'Interest_Rate' ,'Unemoloyment_Rate' as predictors\n",
    "# Split data into predictors X and output Y\n",
    "predictors = ['Interest_Rate' ,'Unemoloyment_Rate']\n",
    "X = dataset[predictors]\n",
    "y = dataset['Stock_Index_Price']\n",
    "\n",
    "# Initialise and fit model\n",
    "lm = LinearRegression()\n",
    "model = lm.fit(X, y)"
   ]
  },
  {
   "cell_type": "code",
   "execution_count": 189,
   "metadata": {},
   "outputs": [
    {
     "name": "stdout",
     "output_type": "stream",
     "text": [
      "alpha = 1798.403977625855\n",
      "betas = [ 345.54008701 -250.14657137]\n"
     ]
    }
   ],
   "source": [
    "print(f'alpha = {model.intercept_}')\n",
    "print(f'betas = {model.coef_}')"
   ]
  },
  {
   "cell_type": "code",
   "execution_count": 190,
   "metadata": {},
   "outputs": [
    {
     "data": {
      "text/plain": [
       "array([1422.86238865, 1336.47736689, 1336.47736689, 1336.47736689,\n",
       "       1311.46270976, 1261.43339548, 1286.44805262, 1200.06303087,\n",
       "       1200.06303087, 1175.04837373, 1063.64869484, 1013.61938057,\n",
       "        988.60472343,  927.23435881,  952.24901595,  877.20504454,\n",
       "        852.1903874 ,  877.20504454,  877.20504454,  877.20504454,\n",
       "        927.23435881,  852.1903874 ,  852.1903874 ,  877.20504454])"
      ]
     },
     "execution_count": 190,
     "metadata": {},
     "output_type": "execute_result"
    }
   ],
   "source": [
    "model.predict(X)"
   ]
  },
  {
   "cell_type": "code",
   "execution_count": 202,
   "metadata": {},
   "outputs": [
    {
     "name": "stdout",
     "output_type": "stream",
     "text": [
      "[55431.11580692]\n"
     ]
    }
   ],
   "source": [
    "new_X = [[300, 200]]\n",
    "print(model.predict(new_X))"
   ]
  },
  {
   "cell_type": "code",
   "execution_count": null,
   "metadata": {},
   "outputs": [],
   "source": []
  }
 ],
 "metadata": {
  "kernelspec": {
   "display_name": "Python 3",
   "language": "python",
   "name": "python3"
  },
  "language_info": {
   "codemirror_mode": {
    "name": "ipython",
    "version": 3
   },
   "file_extension": ".py",
   "mimetype": "text/x-python",
   "name": "python",
   "nbconvert_exporter": "python",
   "pygments_lexer": "ipython3",
   "version": "3.8.5"
  }
 },
 "nbformat": 4,
 "nbformat_minor": 4
}
