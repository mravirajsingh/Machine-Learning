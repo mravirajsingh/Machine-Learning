{
 "cells": [
  {
   "cell_type": "code",
   "execution_count": 1,
   "metadata": {},
   "outputs": [],
   "source": [
    "#Importing the Libraries\n",
    "import numpy as np\n",
    "import pandas as pd\n",
    "from sklearn.model_selection import train_test_split #for split the data\n",
    "from sklearn.model_selection import cross_val_score\n",
    "from sklearn.model_selection import StratifiedKFold\n",
    "from sklearn.metrics import classification_report\n",
    "from sklearn.linear_model import LogisticRegression\n",
    "from sklearn.tree import DecisionTreeClassifier\n",
    "from sklearn.neighbors import KNeighborsClassifier"
   ]
  },
  {
   "cell_type": "markdown",
   "metadata": {},
   "source": [
    "**1. Load the dataset (Churnprediction.csv).**"
   ]
  },
  {
   "cell_type": "code",
   "execution_count": 3,
   "metadata": {},
   "outputs": [
    {
     "data": {
      "text/html": [
       "<div>\n",
       "<style scoped>\n",
       "    .dataframe tbody tr th:only-of-type {\n",
       "        vertical-align: middle;\n",
       "    }\n",
       "\n",
       "    .dataframe tbody tr th {\n",
       "        vertical-align: top;\n",
       "    }\n",
       "\n",
       "    .dataframe thead th {\n",
       "        text-align: right;\n",
       "    }\n",
       "</style>\n",
       "<table border=\"1\" class=\"dataframe\">\n",
       "  <thead>\n",
       "    <tr style=\"text-align: right;\">\n",
       "      <th></th>\n",
       "      <th>ID</th>\n",
       "      <th>CHURNRISK</th>\n",
       "      <th>GENDER</th>\n",
       "      <th>STATUS</th>\n",
       "      <th>CHILDREN</th>\n",
       "      <th>ESTINCOME</th>\n",
       "      <th>HOMEOWNER</th>\n",
       "      <th>AGE</th>\n",
       "      <th>TOTALDOLLARVALUETRADED</th>\n",
       "      <th>TOTALUNITSTRADED</th>\n",
       "      <th>LARGESTSINGLETRANSACTION</th>\n",
       "      <th>SMALLESTSINGLETRANSACTION</th>\n",
       "      <th>PERCENTCHANGECALCULATION</th>\n",
       "      <th>DAYSSINCELASTLOGIN</th>\n",
       "      <th>DAYSSINCELASTTRADE</th>\n",
       "      <th>NETREALIZEDGAINS_YTD</th>\n",
       "      <th>NETREALIZEDLOSSES_YTD</th>\n",
       "    </tr>\n",
       "  </thead>\n",
       "  <tbody>\n",
       "    <tr>\n",
       "      <th>0</th>\n",
       "      <td>1703</td>\n",
       "      <td>Medium</td>\n",
       "      <td>NaN</td>\n",
       "      <td>M</td>\n",
       "      <td>2</td>\n",
       "      <td>28766.90</td>\n",
       "      <td>N</td>\n",
       "      <td>47</td>\n",
       "      <td>6110.61</td>\n",
       "      <td>58</td>\n",
       "      <td>1527.6525</td>\n",
       "      <td>152.76525</td>\n",
       "      <td>8.70</td>\n",
       "      <td>2</td>\n",
       "      <td>13</td>\n",
       "      <td>0.0000</td>\n",
       "      <td>152.76525</td>\n",
       "    </tr>\n",
       "    <tr>\n",
       "      <th>1</th>\n",
       "      <td>1704</td>\n",
       "      <td>Low</td>\n",
       "      <td>NaN</td>\n",
       "      <td>M</td>\n",
       "      <td>2</td>\n",
       "      <td>91272.20</td>\n",
       "      <td>Y</td>\n",
       "      <td>25</td>\n",
       "      <td>26992.70</td>\n",
       "      <td>13</td>\n",
       "      <td>13496.3500</td>\n",
       "      <td>1349.63500</td>\n",
       "      <td>3.25</td>\n",
       "      <td>4</td>\n",
       "      <td>10</td>\n",
       "      <td>1349.6350</td>\n",
       "      <td>0.00000</td>\n",
       "    </tr>\n",
       "    <tr>\n",
       "      <th>2</th>\n",
       "      <td>1705</td>\n",
       "      <td>Low</td>\n",
       "      <td>NaN</td>\n",
       "      <td>S</td>\n",
       "      <td>0</td>\n",
       "      <td>73228.30</td>\n",
       "      <td>N</td>\n",
       "      <td>42</td>\n",
       "      <td>22472.25</td>\n",
       "      <td>28</td>\n",
       "      <td>11236.1250</td>\n",
       "      <td>1123.61250</td>\n",
       "      <td>7.00</td>\n",
       "      <td>4</td>\n",
       "      <td>5</td>\n",
       "      <td>1123.6125</td>\n",
       "      <td>0.00000</td>\n",
       "    </tr>\n",
       "    <tr>\n",
       "      <th>3</th>\n",
       "      <td>1706</td>\n",
       "      <td>High</td>\n",
       "      <td>M</td>\n",
       "      <td>M</td>\n",
       "      <td>1</td>\n",
       "      <td>64792.30</td>\n",
       "      <td>N</td>\n",
       "      <td>52</td>\n",
       "      <td>13051.31</td>\n",
       "      <td>36</td>\n",
       "      <td>6525.6550</td>\n",
       "      <td>652.56550</td>\n",
       "      <td>9.00</td>\n",
       "      <td>3</td>\n",
       "      <td>6</td>\n",
       "      <td>0.0000</td>\n",
       "      <td>652.56550</td>\n",
       "    </tr>\n",
       "    <tr>\n",
       "      <th>4</th>\n",
       "      <td>1707</td>\n",
       "      <td>High</td>\n",
       "      <td>F</td>\n",
       "      <td>S</td>\n",
       "      <td>0</td>\n",
       "      <td>93322.10</td>\n",
       "      <td>Y</td>\n",
       "      <td>40</td>\n",
       "      <td>29922.99</td>\n",
       "      <td>8</td>\n",
       "      <td>14961.4950</td>\n",
       "      <td>1496.14950</td>\n",
       "      <td>2.00</td>\n",
       "      <td>4</td>\n",
       "      <td>9</td>\n",
       "      <td>0.0000</td>\n",
       "      <td>1496.14950</td>\n",
       "    </tr>\n",
       "    <tr>\n",
       "      <th>...</th>\n",
       "      <td>...</td>\n",
       "      <td>...</td>\n",
       "      <td>...</td>\n",
       "      <td>...</td>\n",
       "      <td>...</td>\n",
       "      <td>...</td>\n",
       "      <td>...</td>\n",
       "      <td>...</td>\n",
       "      <td>...</td>\n",
       "      <td>...</td>\n",
       "      <td>...</td>\n",
       "      <td>...</td>\n",
       "      <td>...</td>\n",
       "      <td>...</td>\n",
       "      <td>...</td>\n",
       "      <td>...</td>\n",
       "      <td>...</td>\n",
       "    </tr>\n",
       "    <tr>\n",
       "      <th>2061</th>\n",
       "      <td>837</td>\n",
       "      <td>High</td>\n",
       "      <td>F</td>\n",
       "      <td>S</td>\n",
       "      <td>0</td>\n",
       "      <td>64319.20</td>\n",
       "      <td>N</td>\n",
       "      <td>41</td>\n",
       "      <td>3010.30</td>\n",
       "      <td>37</td>\n",
       "      <td>752.5750</td>\n",
       "      <td>75.25750</td>\n",
       "      <td>5.55</td>\n",
       "      <td>1</td>\n",
       "      <td>18</td>\n",
       "      <td>0.0000</td>\n",
       "      <td>150.51500</td>\n",
       "    </tr>\n",
       "    <tr>\n",
       "      <th>2062</th>\n",
       "      <td>838</td>\n",
       "      <td>Medium</td>\n",
       "      <td>F</td>\n",
       "      <td>S</td>\n",
       "      <td>1</td>\n",
       "      <td>73338.00</td>\n",
       "      <td>N</td>\n",
       "      <td>48</td>\n",
       "      <td>20922.09</td>\n",
       "      <td>9</td>\n",
       "      <td>10461.0450</td>\n",
       "      <td>1046.10450</td>\n",
       "      <td>2.25</td>\n",
       "      <td>1</td>\n",
       "      <td>9</td>\n",
       "      <td>0.0000</td>\n",
       "      <td>1046.10450</td>\n",
       "    </tr>\n",
       "    <tr>\n",
       "      <th>2063</th>\n",
       "      <td>839</td>\n",
       "      <td>Medium</td>\n",
       "      <td>F</td>\n",
       "      <td>S</td>\n",
       "      <td>0</td>\n",
       "      <td>433.74</td>\n",
       "      <td>N</td>\n",
       "      <td>61</td>\n",
       "      <td>3300.33</td>\n",
       "      <td>40</td>\n",
       "      <td>825.0825</td>\n",
       "      <td>82.50825</td>\n",
       "      <td>6.00</td>\n",
       "      <td>5</td>\n",
       "      <td>11</td>\n",
       "      <td>0.0000</td>\n",
       "      <td>82.50825</td>\n",
       "    </tr>\n",
       "    <tr>\n",
       "      <th>2064</th>\n",
       "      <td>840</td>\n",
       "      <td>Low</td>\n",
       "      <td>F</td>\n",
       "      <td>M</td>\n",
       "      <td>2</td>\n",
       "      <td>16962.20</td>\n",
       "      <td>N</td>\n",
       "      <td>45</td>\n",
       "      <td>18601.86</td>\n",
       "      <td>8</td>\n",
       "      <td>9300.9300</td>\n",
       "      <td>930.09300</td>\n",
       "      <td>2.00</td>\n",
       "      <td>1</td>\n",
       "      <td>5</td>\n",
       "      <td>930.0930</td>\n",
       "      <td>0.00000</td>\n",
       "    </tr>\n",
       "    <tr>\n",
       "      <th>2065</th>\n",
       "      <td>841</td>\n",
       "      <td>Low</td>\n",
       "      <td>M</td>\n",
       "      <td>M</td>\n",
       "      <td>2</td>\n",
       "      <td>10708.30</td>\n",
       "      <td>N</td>\n",
       "      <td>26</td>\n",
       "      <td>20832.08</td>\n",
       "      <td>117</td>\n",
       "      <td>10416.0400</td>\n",
       "      <td>1041.60400</td>\n",
       "      <td>29.25</td>\n",
       "      <td>1</td>\n",
       "      <td>8</td>\n",
       "      <td>1041.6040</td>\n",
       "      <td>0.00000</td>\n",
       "    </tr>\n",
       "  </tbody>\n",
       "</table>\n",
       "<p>2066 rows × 17 columns</p>\n",
       "</div>"
      ],
      "text/plain": [
       "        ID CHURNRISK GENDER STATUS  CHILDREN  ESTINCOME HOMEOWNER  AGE  \\\n",
       "0     1703    Medium    NaN      M         2   28766.90         N   47   \n",
       "1     1704       Low    NaN      M         2   91272.20         Y   25   \n",
       "2     1705       Low    NaN      S         0   73228.30         N   42   \n",
       "3     1706      High      M      M         1   64792.30         N   52   \n",
       "4     1707      High      F      S         0   93322.10         Y   40   \n",
       "...    ...       ...    ...    ...       ...        ...       ...  ...   \n",
       "2061   837      High      F      S         0   64319.20         N   41   \n",
       "2062   838    Medium      F      S         1   73338.00         N   48   \n",
       "2063   839    Medium      F      S         0     433.74         N   61   \n",
       "2064   840       Low      F      M         2   16962.20         N   45   \n",
       "2065   841       Low      M      M         2   10708.30         N   26   \n",
       "\n",
       "      TOTALDOLLARVALUETRADED  TOTALUNITSTRADED  LARGESTSINGLETRANSACTION  \\\n",
       "0                    6110.61                58                 1527.6525   \n",
       "1                   26992.70                13                13496.3500   \n",
       "2                   22472.25                28                11236.1250   \n",
       "3                   13051.31                36                 6525.6550   \n",
       "4                   29922.99                 8                14961.4950   \n",
       "...                      ...               ...                       ...   \n",
       "2061                 3010.30                37                  752.5750   \n",
       "2062                20922.09                 9                10461.0450   \n",
       "2063                 3300.33                40                  825.0825   \n",
       "2064                18601.86                 8                 9300.9300   \n",
       "2065                20832.08               117                10416.0400   \n",
       "\n",
       "      SMALLESTSINGLETRANSACTION  PERCENTCHANGECALCULATION  DAYSSINCELASTLOGIN  \\\n",
       "0                     152.76525                      8.70                   2   \n",
       "1                    1349.63500                      3.25                   4   \n",
       "2                    1123.61250                      7.00                   4   \n",
       "3                     652.56550                      9.00                   3   \n",
       "4                    1496.14950                      2.00                   4   \n",
       "...                         ...                       ...                 ...   \n",
       "2061                   75.25750                      5.55                   1   \n",
       "2062                 1046.10450                      2.25                   1   \n",
       "2063                   82.50825                      6.00                   5   \n",
       "2064                  930.09300                      2.00                   1   \n",
       "2065                 1041.60400                     29.25                   1   \n",
       "\n",
       "      DAYSSINCELASTTRADE  NETREALIZEDGAINS_YTD  NETREALIZEDLOSSES_YTD  \n",
       "0                     13                0.0000              152.76525  \n",
       "1                     10             1349.6350                0.00000  \n",
       "2                      5             1123.6125                0.00000  \n",
       "3                      6                0.0000              652.56550  \n",
       "4                      9                0.0000             1496.14950  \n",
       "...                  ...                   ...                    ...  \n",
       "2061                  18                0.0000              150.51500  \n",
       "2062                   9                0.0000             1046.10450  \n",
       "2063                  11                0.0000               82.50825  \n",
       "2064                   5              930.0930                0.00000  \n",
       "2065                   8             1041.6040                0.00000  \n",
       "\n",
       "[2066 rows x 17 columns]"
      ]
     },
     "execution_count": 3,
     "metadata": {},
     "output_type": "execute_result"
    }
   ],
   "source": [
    "data= pd.read_csv(\"Churn_Prediction.csv\")\n",
    "data"
   ]
  },
  {
   "cell_type": "markdown",
   "metadata": {},
   "source": [
    "**2. Drop columns that are not required for classification of Churn Risk.**"
   ]
  },
  {
   "cell_type": "code",
   "execution_count": 4,
   "metadata": {},
   "outputs": [],
   "source": [
    "data = data.drop(['ID'], axis=1)"
   ]
  },
  {
   "cell_type": "markdown",
   "metadata": {},
   "source": [
    "**3. If require perform data preprocessing.**"
   ]
  },
  {
   "cell_type": "code",
   "execution_count": 5,
   "metadata": {},
   "outputs": [
    {
     "data": {
      "text/html": [
       "<div>\n",
       "<style scoped>\n",
       "    .dataframe tbody tr th:only-of-type {\n",
       "        vertical-align: middle;\n",
       "    }\n",
       "\n",
       "    .dataframe tbody tr th {\n",
       "        vertical-align: top;\n",
       "    }\n",
       "\n",
       "    .dataframe thead th {\n",
       "        text-align: right;\n",
       "    }\n",
       "</style>\n",
       "<table border=\"1\" class=\"dataframe\">\n",
       "  <thead>\n",
       "    <tr style=\"text-align: right;\">\n",
       "      <th></th>\n",
       "      <th>Total</th>\n",
       "      <th>%</th>\n",
       "    </tr>\n",
       "  </thead>\n",
       "  <tbody>\n",
       "    <tr>\n",
       "      <th>GENDER</th>\n",
       "      <td>3</td>\n",
       "      <td>0.1</td>\n",
       "    </tr>\n",
       "    <tr>\n",
       "      <th>NETREALIZEDLOSSES_YTD</th>\n",
       "      <td>0</td>\n",
       "      <td>0.0</td>\n",
       "    </tr>\n",
       "    <tr>\n",
       "      <th>NETREALIZEDGAINS_YTD</th>\n",
       "      <td>0</td>\n",
       "      <td>0.0</td>\n",
       "    </tr>\n",
       "    <tr>\n",
       "      <th>DAYSSINCELASTTRADE</th>\n",
       "      <td>0</td>\n",
       "      <td>0.0</td>\n",
       "    </tr>\n",
       "    <tr>\n",
       "      <th>DAYSSINCELASTLOGIN</th>\n",
       "      <td>0</td>\n",
       "      <td>0.0</td>\n",
       "    </tr>\n",
       "    <tr>\n",
       "      <th>PERCENTCHANGECALCULATION</th>\n",
       "      <td>0</td>\n",
       "      <td>0.0</td>\n",
       "    </tr>\n",
       "    <tr>\n",
       "      <th>SMALLESTSINGLETRANSACTION</th>\n",
       "      <td>0</td>\n",
       "      <td>0.0</td>\n",
       "    </tr>\n",
       "    <tr>\n",
       "      <th>LARGESTSINGLETRANSACTION</th>\n",
       "      <td>0</td>\n",
       "      <td>0.0</td>\n",
       "    </tr>\n",
       "    <tr>\n",
       "      <th>TOTALUNITSTRADED</th>\n",
       "      <td>0</td>\n",
       "      <td>0.0</td>\n",
       "    </tr>\n",
       "    <tr>\n",
       "      <th>TOTALDOLLARVALUETRADED</th>\n",
       "      <td>0</td>\n",
       "      <td>0.0</td>\n",
       "    </tr>\n",
       "  </tbody>\n",
       "</table>\n",
       "</div>"
      ],
      "text/plain": [
       "                           Total    %\n",
       "GENDER                         3  0.1\n",
       "NETREALIZEDLOSSES_YTD          0  0.0\n",
       "NETREALIZEDGAINS_YTD           0  0.0\n",
       "DAYSSINCELASTTRADE             0  0.0\n",
       "DAYSSINCELASTLOGIN             0  0.0\n",
       "PERCENTCHANGECALCULATION       0  0.0\n",
       "SMALLESTSINGLETRANSACTION      0  0.0\n",
       "LARGESTSINGLETRANSACTION       0  0.0\n",
       "TOTALUNITSTRADED               0  0.0\n",
       "TOTALDOLLARVALUETRADED         0  0.0"
      ]
     },
     "execution_count": 5,
     "metadata": {},
     "output_type": "execute_result"
    }
   ],
   "source": [
    "total = data.isnull().sum().sort_values(ascending=False)\n",
    "percent_1 = data.isnull().sum()/data.isnull().count()*100\n",
    "percent_2 = (round(percent_1, 1)).sort_values(ascending=False)\n",
    "missing_data = pd.concat([total, percent_2], axis=1, keys=['Total', '%'])\n",
    "missing_data.head(10)"
   ]
  },
  {
   "cell_type": "code",
   "execution_count": 6,
   "metadata": {},
   "outputs": [],
   "source": [
    "data.dropna(subset = [\"GENDER\"], inplace=True)"
   ]
  },
  {
   "cell_type": "code",
   "execution_count": 7,
   "metadata": {},
   "outputs": [],
   "source": [
    "data['GENDER']=data['GENDER'].map({'M':1,'F':0})\n",
    "data['STATUS']=data['STATUS'].map({'M':1,'S':0,'D':2})\n",
    "data['CHURNRISK']=data['CHURNRISK'].map({'Medium':1,'Low':0,'High':2})\n",
    "data['HOMEOWNER']=data['HOMEOWNER'].map({'Y':1,'N':0})"
   ]
  },
  {
   "cell_type": "code",
   "execution_count": 8,
   "metadata": {},
   "outputs": [
    {
     "data": {
      "text/html": [
       "<div>\n",
       "<style scoped>\n",
       "    .dataframe tbody tr th:only-of-type {\n",
       "        vertical-align: middle;\n",
       "    }\n",
       "\n",
       "    .dataframe tbody tr th {\n",
       "        vertical-align: top;\n",
       "    }\n",
       "\n",
       "    .dataframe thead th {\n",
       "        text-align: right;\n",
       "    }\n",
       "</style>\n",
       "<table border=\"1\" class=\"dataframe\">\n",
       "  <thead>\n",
       "    <tr style=\"text-align: right;\">\n",
       "      <th></th>\n",
       "      <th>CHURNRISK</th>\n",
       "      <th>GENDER</th>\n",
       "      <th>STATUS</th>\n",
       "      <th>CHILDREN</th>\n",
       "      <th>ESTINCOME</th>\n",
       "      <th>HOMEOWNER</th>\n",
       "      <th>AGE</th>\n",
       "      <th>TOTALDOLLARVALUETRADED</th>\n",
       "      <th>TOTALUNITSTRADED</th>\n",
       "      <th>LARGESTSINGLETRANSACTION</th>\n",
       "      <th>SMALLESTSINGLETRANSACTION</th>\n",
       "      <th>PERCENTCHANGECALCULATION</th>\n",
       "      <th>DAYSSINCELASTLOGIN</th>\n",
       "      <th>DAYSSINCELASTTRADE</th>\n",
       "      <th>NETREALIZEDGAINS_YTD</th>\n",
       "      <th>NETREALIZEDLOSSES_YTD</th>\n",
       "    </tr>\n",
       "  </thead>\n",
       "  <tbody>\n",
       "    <tr>\n",
       "      <th>3</th>\n",
       "      <td>2</td>\n",
       "      <td>1</td>\n",
       "      <td>1</td>\n",
       "      <td>1</td>\n",
       "      <td>64792.3</td>\n",
       "      <td>0</td>\n",
       "      <td>52</td>\n",
       "      <td>13051.31</td>\n",
       "      <td>36</td>\n",
       "      <td>6525.655</td>\n",
       "      <td>652.5655</td>\n",
       "      <td>9.00</td>\n",
       "      <td>3</td>\n",
       "      <td>6</td>\n",
       "      <td>0.0</td>\n",
       "      <td>652.5655</td>\n",
       "    </tr>\n",
       "    <tr>\n",
       "      <th>4</th>\n",
       "      <td>2</td>\n",
       "      <td>0</td>\n",
       "      <td>0</td>\n",
       "      <td>0</td>\n",
       "      <td>93322.1</td>\n",
       "      <td>1</td>\n",
       "      <td>40</td>\n",
       "      <td>29922.99</td>\n",
       "      <td>8</td>\n",
       "      <td>14961.495</td>\n",
       "      <td>1496.1495</td>\n",
       "      <td>2.00</td>\n",
       "      <td>4</td>\n",
       "      <td>9</td>\n",
       "      <td>0.0</td>\n",
       "      <td>1496.1495</td>\n",
       "    </tr>\n",
       "    <tr>\n",
       "      <th>5</th>\n",
       "      <td>2</td>\n",
       "      <td>1</td>\n",
       "      <td>1</td>\n",
       "      <td>2</td>\n",
       "      <td>49910.7</td>\n",
       "      <td>1</td>\n",
       "      <td>52</td>\n",
       "      <td>27422.74</td>\n",
       "      <td>23</td>\n",
       "      <td>13711.370</td>\n",
       "      <td>1371.1370</td>\n",
       "      <td>5.75</td>\n",
       "      <td>3</td>\n",
       "      <td>10</td>\n",
       "      <td>0.0</td>\n",
       "      <td>1371.1370</td>\n",
       "    </tr>\n",
       "    <tr>\n",
       "      <th>6</th>\n",
       "      <td>2</td>\n",
       "      <td>1</td>\n",
       "      <td>1</td>\n",
       "      <td>0</td>\n",
       "      <td>76161.4</td>\n",
       "      <td>1</td>\n",
       "      <td>45</td>\n",
       "      <td>11961.20</td>\n",
       "      <td>25</td>\n",
       "      <td>5980.600</td>\n",
       "      <td>598.0600</td>\n",
       "      <td>6.25</td>\n",
       "      <td>2</td>\n",
       "      <td>5</td>\n",
       "      <td>0.0</td>\n",
       "      <td>598.0600</td>\n",
       "    </tr>\n",
       "    <tr>\n",
       "      <th>7</th>\n",
       "      <td>2</td>\n",
       "      <td>0</td>\n",
       "      <td>1</td>\n",
       "      <td>2</td>\n",
       "      <td>55860.0</td>\n",
       "      <td>1</td>\n",
       "      <td>15</td>\n",
       "      <td>16011.60</td>\n",
       "      <td>10</td>\n",
       "      <td>8005.800</td>\n",
       "      <td>800.5800</td>\n",
       "      <td>2.50</td>\n",
       "      <td>2</td>\n",
       "      <td>8</td>\n",
       "      <td>0.0</td>\n",
       "      <td>800.5800</td>\n",
       "    </tr>\n",
       "  </tbody>\n",
       "</table>\n",
       "</div>"
      ],
      "text/plain": [
       "   CHURNRISK  GENDER  STATUS  CHILDREN  ESTINCOME  HOMEOWNER  AGE  \\\n",
       "3          2       1       1         1    64792.3          0   52   \n",
       "4          2       0       0         0    93322.1          1   40   \n",
       "5          2       1       1         2    49910.7          1   52   \n",
       "6          2       1       1         0    76161.4          1   45   \n",
       "7          2       0       1         2    55860.0          1   15   \n",
       "\n",
       "   TOTALDOLLARVALUETRADED  TOTALUNITSTRADED  LARGESTSINGLETRANSACTION  \\\n",
       "3                13051.31                36                  6525.655   \n",
       "4                29922.99                 8                 14961.495   \n",
       "5                27422.74                23                 13711.370   \n",
       "6                11961.20                25                  5980.600   \n",
       "7                16011.60                10                  8005.800   \n",
       "\n",
       "   SMALLESTSINGLETRANSACTION  PERCENTCHANGECALCULATION  DAYSSINCELASTLOGIN  \\\n",
       "3                   652.5655                      9.00                   3   \n",
       "4                  1496.1495                      2.00                   4   \n",
       "5                  1371.1370                      5.75                   3   \n",
       "6                   598.0600                      6.25                   2   \n",
       "7                   800.5800                      2.50                   2   \n",
       "\n",
       "   DAYSSINCELASTTRADE  NETREALIZEDGAINS_YTD  NETREALIZEDLOSSES_YTD  \n",
       "3                   6                   0.0               652.5655  \n",
       "4                   9                   0.0              1496.1495  \n",
       "5                  10                   0.0              1371.1370  \n",
       "6                   5                   0.0               598.0600  \n",
       "7                   8                   0.0               800.5800  "
      ]
     },
     "execution_count": 8,
     "metadata": {},
     "output_type": "execute_result"
    }
   ],
   "source": [
    "data.head()"
   ]
  },
  {
   "cell_type": "markdown",
   "metadata": {},
   "source": [
    "**4. Split dataset into test and train (20:80).**"
   ]
  },
  {
   "cell_type": "code",
   "execution_count": 9,
   "metadata": {},
   "outputs": [],
   "source": [
    "y = data['CHURNRISK']\n",
    "X = data.drop(['CHURNRISK'], axis=1).values \n",
    "X_train, X_test, y_train, y_test =  train_test_split(X,y,test_size = 0.2, random_state= 10)"
   ]
  },
  {
   "cell_type": "markdown",
   "metadata": {},
   "source": [
    "**5. Build any three classification models for identifying Churn Risk.**"
   ]
  },
  {
   "cell_type": "code",
   "execution_count": 10,
   "metadata": {},
   "outputs": [
    {
     "data": {
      "text/plain": [
       "[('LR', LogisticRegression(multi_class='ovr', solver='liblinear')),\n",
       " ('KNN', KNeighborsClassifier()),\n",
       " ('CART', DecisionTreeClassifier())]"
      ]
     },
     "execution_count": 10,
     "metadata": {},
     "output_type": "execute_result"
    }
   ],
   "source": [
    "models = []\n",
    "models.append(('LR', LogisticRegression(solver='liblinear', multi_class='ovr')))\n",
    "models.append(('KNN', KNeighborsClassifier()))\n",
    "models.append(('CART', DecisionTreeClassifier()))\n",
    "models"
   ]
  },
  {
   "cell_type": "code",
   "execution_count": 11,
   "metadata": {},
   "outputs": [
    {
     "name": "stdout",
     "output_type": "stream",
     "text": [
      "LR: 0.949697 (0.010515)\n",
      "KNN: 0.756364 (0.028658)\n",
      "CART: 0.896970 (0.015804)\n"
     ]
    }
   ],
   "source": [
    "results = []\n",
    "names = []\n",
    "for name, model in models:\n",
    "    kfold = StratifiedKFold(n_splits=10, random_state=1, shuffle=True)\n",
    "    cv_results = cross_val_score(model, X_train, y_train, cv=kfold, scoring='accuracy')\n",
    "    results.append(cv_results)\n",
    "    names.append(name)\n",
    "    print('%s: %f (%f)' % (name, cv_results.mean(), cv_results.std()))"
   ]
  },
  {
   "cell_type": "markdown",
   "metadata": {},
   "source": [
    "**6. Build Voting ensemble classifier on the training dataset.**"
   ]
  },
  {
   "cell_type": "code",
   "execution_count": 12,
   "metadata": {},
   "outputs": [
    {
     "name": "stdout",
     "output_type": "stream",
     "text": [
      "knn1 0.873 (0.030)\n",
      "knn3 0.889 (0.038)\n",
      "knn5 0.895 (0.031)\n",
      "knn7 0.899 (0.035)\n",
      "knn9 0.900 (0.033)\n",
      "voting 0.902 (0.034)\n"
     ]
    },
    {
     "data": {
      "image/png": "[encoded data removed]",
      "text/plain": [
       "<Figure size 432x288 with 1 Axes>"
      ]
     },
     "metadata": {
      "needs_background": "light"
     },
     "output_type": "display_data"
    }
   ],
   "source": [
    "# compare hard voting to standalone classifiers\n",
    "from numpy import mean\n",
    "from numpy import std\n",
    "from sklearn.datasets import make_classification\n",
    "from sklearn.model_selection import cross_val_score\n",
    "from sklearn.model_selection import RepeatedStratifiedKFold\n",
    "from sklearn.neighbors import KNeighborsClassifier\n",
    "from sklearn.ensemble import VotingClassifier\n",
    "from matplotlib import pyplot\n",
    "%matplotlib inline\n",
    "# get the dataset\n",
    "def get_dataset():\n",
    "    X, y = make_classification(n_samples=1000, n_features=20, n_informative=15, n_redundant=5, random_state=2)\n",
    "    return X, y\n",
    "\n",
    "# get a voting ensemble of models\n",
    "def get_voting():\n",
    "    # define the base models\n",
    "    models = list()\n",
    "    models.append(('knn1', KNeighborsClassifier(n_neighbors=1)))\n",
    "    models.append(('knn3', KNeighborsClassifier(n_neighbors=3)))\n",
    "    models.append(('knn5', KNeighborsClassifier(n_neighbors=5)))\n",
    "    models.append(('knn7', KNeighborsClassifier(n_neighbors=7)))\n",
    "    models.append(('knn9', KNeighborsClassifier(n_neighbors=9)))\n",
    "    # define the voting ensemble\n",
    "    ensemble = VotingClassifier(estimators=models)\n",
    "    return ensemble\n",
    "\n",
    "# get a list of models to evaluate\n",
    "def get_models():\n",
    "    models = dict()\n",
    "    models['knn1'] = KNeighborsClassifier(n_neighbors=1)\n",
    "    models['knn3'] = KNeighborsClassifier(n_neighbors=3)\n",
    "    models['knn5'] = KNeighborsClassifier(n_neighbors=5)\n",
    "    models['knn7'] = KNeighborsClassifier(n_neighbors=7)\n",
    "    models['knn9'] = KNeighborsClassifier(n_neighbors=9)\n",
    "    models['voting'] = get_voting()\n",
    "    return models\n",
    "\n",
    "# evaluate a give model using cross-validation\n",
    "def evaluate_model(model):\n",
    "    cv = RepeatedStratifiedKFold(n_splits=10, n_repeats=3, random_state=1)\n",
    "    scores = cross_val_score(model, X, y, scoring='accuracy', cv=cv, n_jobs=-1, error_score='raise')\n",
    "    return scores\n",
    "\n",
    "# define dataset\n",
    "X, y = get_dataset()\n",
    "# get the models to evaluate\n",
    "models = get_models()\n",
    "# evaluate the models and store results\n",
    "results, names = list(), list()\n",
    "for name, model in models.items():\n",
    "    scores = evaluate_model(model)\n",
    "    results.append(scores)\n",
    "    names.append(name)\n",
    "    print('%s %.3f (%.3f)' % (name, mean(scores), std(scores)))\n",
    "# plot model performance for comparison\n",
    "pyplot.boxplot(results, labels=names, showmeans=True)\n",
    "pyplot.show()"
   ]
  },
  {
   "cell_type": "markdown",
   "metadata": {},
   "source": [
    "**7. Build Bagging ensemble classifier on the training dataset.**"
   ]
  },
  {
   "cell_type": "markdown",
   "metadata": {},
   "source": [
    "Building and Evaluating the Model"
   ]
  },
  {
   "cell_type": "code",
   "execution_count": 13,
   "metadata": {},
   "outputs": [],
   "source": [
    "# Building Decision Tree\n",
    "from sklearn.tree import DecisionTreeClassifier\n",
    "dt = DecisionTreeClassifier(criterion = 'entropy', random_state = 42)\n",
    "dt.fit(X_train, y_train)\n",
    "dt_pred_train = dt.predict(X_train)"
   ]
  },
  {
   "cell_type": "code",
   "execution_count": 14,
   "metadata": {},
   "outputs": [
    {
     "name": "stdout",
     "output_type": "stream",
     "text": [
      "Training Set Evaluation F1-Score:  0.996969696969697\n"
     ]
    }
   ],
   "source": [
    "from sklearn.metrics import f1_score\n",
    "dt_pred_train = dt.predict(X_train)\n",
    "print('Training Set Evaluation F1-Score: ',f1_score(y_train,dt_pred_train,average='micro'))"
   ]
  },
  {
   "cell_type": "code",
   "execution_count": 15,
   "metadata": {},
   "outputs": [
    {
     "name": "stdout",
     "output_type": "stream",
     "text": [
      "Testing Set Evaluation F1-Score:  0.918\n"
     ]
    }
   ],
   "source": [
    "# Evaluating on Test set\n",
    "dt_pred_test = dt.predict(X_test)\n",
    "print('Testing Set Evaluation F1-Score: ',np.round(f1_score(y_test,dt_pred_test,average='micro'),3))"
   ]
  },
  {
   "cell_type": "markdown",
   "metadata": {},
   "source": [
    "Building a Random Forest Model"
   ]
  },
  {
   "cell_type": "code",
   "execution_count": 16,
   "metadata": {},
   "outputs": [
    {
     "name": "stdout",
     "output_type": "stream",
     "text": [
      "Training Set Evaluation F1-Score:  0.996969696969697\n"
     ]
    }
   ],
   "source": [
    "from sklearn.ensemble import RandomForestClassifier\n",
    "rfc = RandomForestClassifier(criterion = 'entropy', random_state = 42)\n",
    "rfc.fit(X_train, y_train)\n",
    "\n",
    "# Evaluating on Training set\n",
    "rfc_pred_train = rfc.predict(X_train)\n",
    "print('Training Set Evaluation F1-Score: ',f1_score(y_train,rfc_pred_train,average='micro'))"
   ]
  },
  {
   "cell_type": "code",
   "execution_count": 17,
   "metadata": {},
   "outputs": [
    {
     "name": "stdout",
     "output_type": "stream",
     "text": [
      "Testing Set Evaluation F1-Score:  0.932\n"
     ]
    }
   ],
   "source": [
    "# Evaluating on Test set\n",
    "rfc_pred_test = rfc.predict(X_test)\n",
    "print('Testing Set Evaluation F1-Score: ',np.round(f1_score(y_test,rfc_pred_test,average='micro'),3))"
   ]
  },
  {
   "cell_type": "markdown",
   "metadata": {},
   "source": [
    "**8. Build Boosting ensemble classifier on the training dataset.**"
   ]
  },
  {
   "cell_type": "code",
   "execution_count": 18,
   "metadata": {},
   "outputs": [
    {
     "name": "stdout",
     "output_type": "stream",
     "text": [
      "[21:39:05] WARNING: C:/Users/Administrator/workspace/xgboost-win64_release_1.3.0/src/learner.cc:1061: Starting in XGBoost 1.3.0, the default evaluation metric used with the objective 'multi:softprob' was changed from 'merror' to 'mlogloss'. Explicitly set eval_metric if you'd like to restore the old behavior.\n"
     ]
    },
    {
     "data": {
      "text/plain": [
       "0.9443099273607748"
      ]
     },
     "execution_count": 18,
     "metadata": {},
     "output_type": "execute_result"
    }
   ],
   "source": [
    "import xgboost as xgb\n",
    "import warnings\n",
    "warnings.filterwarnings( \"ignore\" )\n",
    "model=xgb.XGBClassifier(learning_rate=0.01,random_state=1)\n",
    "model.fit(X_train, y_train)\n",
    "model.score(X_test,y_test)"
   ]
  },
  {
   "cell_type": "markdown",
   "metadata": {},
   "source": [
    "**9. Fit the models designed from step-5 to step-8 on the test dataset.**"
   ]
  },
  {
   "cell_type": "code",
   "execution_count": 19,
   "metadata": {},
   "outputs": [
    {
     "data": {
      "text/plain": [
       "LogisticRegression()"
      ]
     },
     "execution_count": 19,
     "metadata": {},
     "output_type": "execute_result"
    }
   ],
   "source": [
    "logmodel = LogisticRegression()\n",
    "logmodel.fit(X_test,y_test)"
   ]
  },
  {
   "cell_type": "code",
   "execution_count": 20,
   "metadata": {},
   "outputs": [
    {
     "data": {
      "text/plain": [
       "KNeighborsClassifier()"
      ]
     },
     "execution_count": 20,
     "metadata": {},
     "output_type": "execute_result"
    }
   ],
   "source": [
    "KNmodel = KNeighborsClassifier()\n",
    "KNmodel.fit(X_test,y_test)"
   ]
  },
  {
   "cell_type": "code",
   "execution_count": 21,
   "metadata": {},
   "outputs": [
    {
     "data": {
      "text/plain": [
       "DecisionTreeClassifier()"
      ]
     },
     "execution_count": 21,
     "metadata": {},
     "output_type": "execute_result"
    }
   ],
   "source": [
    "Dmodel = DecisionTreeClassifier()\n",
    "Dmodel.fit(X_test,y_test)"
   ]
  },
  {
   "cell_type": "code",
   "execution_count": 22,
   "metadata": {},
   "outputs": [
    {
     "data": {
      "text/plain": [
       "RandomForestClassifier()"
      ]
     },
     "execution_count": 22,
     "metadata": {},
     "output_type": "execute_result"
    }
   ],
   "source": [
    "RFmodel = RandomForestClassifier()\n",
    "RFmodel.fit(X_test,y_test)"
   ]
  },
  {
   "cell_type": "markdown",
   "metadata": {},
   "source": [
    "**10. Evaluate the designed models from step-5 to step-8 with appropriate classification metrics.**"
   ]
  },
  {
   "cell_type": "code",
   "execution_count": 23,
   "metadata": {},
   "outputs": [],
   "source": [
    "from sklearn.metrics import confusion_matrix\n",
    "from sklearn.metrics import classification_report"
   ]
  },
  {
   "cell_type": "code",
   "execution_count": 24,
   "metadata": {},
   "outputs": [
    {
     "name": "stdout",
     "output_type": "stream",
     "text": [
      "[[141   0   0]\n",
      " [  6  60  15]\n",
      " [  0   0 191]]\n",
      "              precision    recall  f1-score   support\n",
      "\n",
      "           0       0.96      1.00      0.98       141\n",
      "           1       1.00      0.74      0.85        81\n",
      "           2       0.93      1.00      0.96       191\n",
      "\n",
      "    accuracy                           0.95       413\n",
      "   macro avg       0.96      0.91      0.93       413\n",
      "weighted avg       0.95      0.95      0.95       413\n",
      "\n"
     ]
    }
   ],
   "source": [
    "predictions = logmodel.predict(X_test)\n",
    "accuracy=confusion_matrix(y_test,predictions)\n",
    "print(accuracy)\n",
    "print(classification_report(y_test,predictions))"
   ]
  },
  {
   "cell_type": "code",
   "execution_count": 25,
   "metadata": {},
   "outputs": [
    {
     "name": "stdout",
     "output_type": "stream",
     "text": [
      "[[116   0  25]\n",
      " [ 13  43  25]\n",
      " [ 34  18 139]]\n",
      "              precision    recall  f1-score   support\n",
      "\n",
      "           0       0.71      0.82      0.76       141\n",
      "           1       0.70      0.53      0.61        81\n",
      "           2       0.74      0.73      0.73       191\n",
      "\n",
      "    accuracy                           0.72       413\n",
      "   macro avg       0.72      0.69      0.70       413\n",
      "weighted avg       0.72      0.72      0.72       413\n",
      "\n"
     ]
    }
   ],
   "source": [
    "predictions = KNmodel.predict(X_test)\n",
    "accuracy=confusion_matrix(y_test,predictions)\n",
    "print(accuracy)\n",
    "print(classification_report(y_test,predictions))"
   ]
  },
  {
   "cell_type": "code",
   "execution_count": 26,
   "metadata": {},
   "outputs": [
    {
     "name": "stdout",
     "output_type": "stream",
     "text": [
      "[[141   0   0]\n",
      " [  0  81   0]\n",
      " [  0   0 191]]\n",
      "              precision    recall  f1-score   support\n",
      "\n",
      "           0       1.00      1.00      1.00       141\n",
      "           1       1.00      1.00      1.00        81\n",
      "           2       1.00      1.00      1.00       191\n",
      "\n",
      "    accuracy                           1.00       413\n",
      "   macro avg       1.00      1.00      1.00       413\n",
      "weighted avg       1.00      1.00      1.00       413\n",
      "\n"
     ]
    }
   ],
   "source": [
    "predictions = Dmodel.predict(X_test)\n",
    "accuracy=confusion_matrix(y_test,predictions)\n",
    "print(accuracy)\n",
    "print(classification_report(y_test,predictions))"
   ]
  },
  {
   "cell_type": "code",
   "execution_count": 27,
   "metadata": {},
   "outputs": [
    {
     "name": "stdout",
     "output_type": "stream",
     "text": [
      "[[141   0   0]\n",
      " [  0  81   0]\n",
      " [  0   0 191]]\n",
      "              precision    recall  f1-score   support\n",
      "\n",
      "           0       1.00      1.00      1.00       141\n",
      "           1       1.00      1.00      1.00        81\n",
      "           2       1.00      1.00      1.00       191\n",
      "\n",
      "    accuracy                           1.00       413\n",
      "   macro avg       1.00      1.00      1.00       413\n",
      "weighted avg       1.00      1.00      1.00       413\n",
      "\n"
     ]
    }
   ],
   "source": [
    "predictions = RFmodel.predict(X_test)\n",
    "accuracy=confusion_matrix(y_test,predictions)\n",
    "print(accuracy)\n",
    "print(classification_report(y_test,predictions))"
   ]
  },
  {
   "cell_type": "code",
   "execution_count": null,
   "metadata": {},
   "outputs": [],
   "source": []
  }
 ],
 "metadata": {
  "kernelspec": {
   "display_name": "Python 3",
   "language": "python",
   "name": "python3"
  },
  "language_info": {
   "codemirror_mode": {
    "name": "ipython",
    "version": 3
   },
   "file_extension": ".py",
   "mimetype": "text/x-python",
   "name": "python",
   "nbconvert_exporter": "python",
   "pygments_lexer": "ipython3",
   "version": "3.8.5"
  }
 },
 "nbformat": 4,
 "nbformat_minor": 4
}
